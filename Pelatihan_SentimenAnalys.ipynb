{
  "nbformat": 4,
  "nbformat_minor": 0,
  "metadata": {
    "colab": {
      "provenance": [],
      "authorship_tag": "ABX9TyNvIROQ6KZTi6vf1E1gmetr",
      "include_colab_link": true
    },
    "kernelspec": {
      "name": "python3",
      "display_name": "Python 3"
    },
    "language_info": {
      "name": "python"
    }
  },
  "cells": [
    {
      "cell_type": "markdown",
      "metadata": {
        "id": "view-in-github",
        "colab_type": "text"
      },
      "source": [
        "<a href=\"https://colab.research.google.com/github/FaizFP/Dicoding--Analystic-Sentiments/blob/main/Pelatihan_SentimenAnalys.ipynb\" target=\"_parent\"><img src=\"https://colab.research.google.com/assets/colab-badge.svg\" alt=\"Open In Colab\"/></a>"
      ]
    },
    {
      "cell_type": "code",
      "execution_count": 109,
      "metadata": {
        "id": "uu4iILEZYOSd"
      },
      "outputs": [],
      "source": [
        "import pandas as pd\n",
        "from sklearn.feature_extraction.text import TfidfVectorizer\n",
        "from sklearn.model_selection import train_test_split\n",
        "from sklearn.svm import SVC\n",
        "from sklearn.metrics import accuracy_score, classification_report\n",
        "import numpy as np\n",
        "from gensim.models import Word2Vec\n",
        "from sklearn.ensemble import RandomForestClassifier\n",
        "from sklearn.model_selection import GridSearchCV\n",
        "from sklearn.svm import SVC\n",
        "from imblearn.over_sampling import SMOTE\n"
      ]
    },
    {
      "cell_type": "code",
      "source": [
        "nama_file = '/content/sample_data/dataset_final.csv'\n",
        "df_bersih = pd.read_csv(nama_file)\n",
        "print(df_bersih.head())"
      ],
      "metadata": {
        "id": "fmVpvGU1Yn6S",
        "outputId": "0eecba53-60c0-4f59-e521-54a2aaf60bcc",
        "colab": {
          "base_uri": "https://localhost:8080/"
        }
      },
      "execution_count": 100,
      "outputs": [
        {
          "output_type": "stream",
          "name": "stdout",
          "text": [
            "                                       clean_content sentimen\n",
            "0  aplikasi bantu order gojek berangkat pulang kerja  positif\n",
            "1  drivernya ambil pas hujan ga kaya grab yg maha...  positif\n",
            "2                                  wow uda tahin aja  positif\n",
            "3                                               good  positif\n",
            "4  kecewa bgt ga segercep grab pake gojek kapok b...  negatif\n"
          ]
        }
      ]
    },
    {
      "cell_type": "code",
      "source": [
        "df_bersih.info()"
      ],
      "metadata": {
        "id": "PmO1gNAUYwqX",
        "outputId": "6591bd9c-dcb9-4241-da5b-1f0f99f44ba6",
        "colab": {
          "base_uri": "https://localhost:8080/"
        }
      },
      "execution_count": 101,
      "outputs": [
        {
          "output_type": "stream",
          "name": "stdout",
          "text": [
            "<class 'pandas.core.frame.DataFrame'>\n",
            "RangeIndex: 10692 entries, 0 to 10691\n",
            "Data columns (total 2 columns):\n",
            " #   Column         Non-Null Count  Dtype \n",
            "---  ------         --------------  ----- \n",
            " 0   clean_content  10692 non-null  object\n",
            " 1   sentimen       10692 non-null  object\n",
            "dtypes: object(2)\n",
            "memory usage: 167.2+ KB\n"
          ]
        }
      ]
    },
    {
      "cell_type": "code",
      "source": [
        "df_bersih['clean_content'].isnull().sum()"
      ],
      "metadata": {
        "id": "KzFT8feTY1c2",
        "outputId": "0657f746-7bb1-4565-d993-78b185c68dbe",
        "colab": {
          "base_uri": "https://localhost:8080/"
        }
      },
      "execution_count": 102,
      "outputs": [
        {
          "output_type": "execute_result",
          "data": {
            "text/plain": [
              "0"
            ]
          },
          "metadata": {},
          "execution_count": 102
        }
      ]
    },
    {
      "cell_type": "code",
      "source": [
        "df_bersih.duplicated().sum()"
      ],
      "metadata": {
        "id": "C1bkDkKn-emo",
        "outputId": "358d2bba-ccfd-4d74-9e6f-5ff48a68883b",
        "colab": {
          "base_uri": "https://localhost:8080/"
        }
      },
      "execution_count": 108,
      "outputs": [
        {
          "output_type": "execute_result",
          "data": {
            "text/plain": [
              "3415"
            ]
          },
          "metadata": {},
          "execution_count": 108
        }
      ]
    },
    {
      "cell_type": "code",
      "source": [
        "\n",
        "# 1. Inisialisasi TfidfVectorizer\n",
        "# max_features=5000 berarti kita hanya akan mengambil 5000 kata/fitur yang paling penting\n",
        "# Ini membantu model fokus pada kata-kata yang paling relevan dan mempercepat training\n",
        "vectorizer = TfidfVectorizer(max_features=5000)\n",
        "\n",
        "# 2. Definisikan variabel fitur (X) dan target (y)\n",
        "# Fitur (X) adalah teks ulasan yang sudah bersih\n",
        "# Target (y) adalah label sentimen yang sudah kita buat\n",
        "X_text = df_bersih['clean_content']\n",
        "y = df_bersih['sentimen']\n",
        "\n",
        "# 3. Lakukan proses fit_transform\n",
        "# 'fit' mempelajari kosakata dari data teks Anda\n",
        "# 'transform' mengubah teks tersebut menjadi matriks angka TF-IDF\n",
        "print(\"Memulai proses ekstraksi fitur dengan TF-IDF...\")\n",
        "X = vectorizer.fit_transform(X_text)\n",
        "print(\"Ekstraksi fitur selesai.\")\n",
        "\n",
        "# 4. Periksa hasil dari proses ini\n",
        "print(f\"\\nDimensi dari matriks fitur (X): {X.shape}\")\n",
        "print(f\"Dimensi dari target (y): {y.shape}\")"
      ],
      "metadata": {
        "id": "1Sr8QodHY2rv",
        "outputId": "672012df-df76-417c-c015-00088ebd1767",
        "colab": {
          "base_uri": "https://localhost:8080/"
        }
      },
      "execution_count": 103,
      "outputs": [
        {
          "output_type": "stream",
          "name": "stdout",
          "text": [
            "Memulai proses ekstraksi fitur dengan TF-IDF...\n",
            "Ekstraksi fitur selesai.\n",
            "\n",
            "Dimensi dari matriks fitur (X): (10692, 5000)\n",
            "Dimensi dari target (y): (10692,)\n"
          ]
        }
      ]
    },
    {
      "cell_type": "code",
      "source": [],
      "metadata": {
        "id": "QvcpJIYkZTsj"
      },
      "execution_count": 103,
      "outputs": []
    },
    {
      "cell_type": "markdown",
      "source": [
        "## 🧪 Skema 1: SVM + TF-IDF (Data 80/20)\n"
      ],
      "metadata": {
        "id": "vHbiJlS1ZX4U"
      }
    },
    {
      "cell_type": "code",
      "source": [
        "# 1. Pembagian Data (80% Latih, 20% Uji)\n",
        "X_train, X_test, y_train, y_test = train_test_split(\n",
        "    X, y,\n",
        "    test_size=0.2,\n",
        "    random_state=42,\n",
        "    stratify=y\n",
        ")\n",
        "\n",
        "# 2. Pelatihan Model SVM\n",
        "print(\"Memulai pelatihan model SVM...\")\n",
        "svm_model = SVC(kernel='linear', random_state=42)\n",
        "svm_model.fit(X_train, y_train)\n",
        "print(\"Pelatihan SVM selesai.\")\n",
        "\n",
        "# 3. Evaluasi Model\n",
        "y_pred_svm = svm_model.predict(X_test)\n",
        "accuracy_svm = accuracy_score(y_test, y_pred_svm)\n",
        "\n",
        "print(f\"\\n--- Hasil Skema 1: SVM + TF-IDF (80/20) ---\")\n",
        "print(f\"Akurasi: {accuracy_svm * 100:.2f}%\")\n",
        "print(\"\\nLaporan Klasifikasi:\")\n",
        "print(classification_report(y_test, y_pred_svm))"
      ],
      "metadata": {
        "id": "gxN_zHWNZbGV",
        "outputId": "54faa337-6de6-4a0d-b18b-b17e4c9fcdbd",
        "colab": {
          "base_uri": "https://localhost:8080/"
        }
      },
      "execution_count": 104,
      "outputs": [
        {
          "output_type": "stream",
          "name": "stdout",
          "text": [
            "Memulai pelatihan model SVM...\n",
            "Pelatihan SVM selesai.\n",
            "\n",
            "--- Hasil Skema 1: SVM + TF-IDF (80/20) ---\n",
            "Akurasi: 88.17%\n",
            "\n",
            "Laporan Klasifikasi:\n",
            "              precision    recall  f1-score   support\n",
            "\n",
            "     negatif       0.79      0.82      0.80       583\n",
            "      netral       0.00      0.00      0.00        81\n",
            "     positif       0.92      0.95      0.94      1475\n",
            "\n",
            "    accuracy                           0.88      2139\n",
            "   macro avg       0.57      0.59      0.58      2139\n",
            "weighted avg       0.85      0.88      0.86      2139\n",
            "\n"
          ]
        },
        {
          "output_type": "stream",
          "name": "stderr",
          "text": [
            "/usr/local/lib/python3.12/dist-packages/sklearn/metrics/_classification.py:1565: UndefinedMetricWarning: Precision is ill-defined and being set to 0.0 in labels with no predicted samples. Use `zero_division` parameter to control this behavior.\n",
            "  _warn_prf(average, modifier, f\"{metric.capitalize()} is\", len(result))\n",
            "/usr/local/lib/python3.12/dist-packages/sklearn/metrics/_classification.py:1565: UndefinedMetricWarning: Precision is ill-defined and being set to 0.0 in labels with no predicted samples. Use `zero_division` parameter to control this behavior.\n",
            "  _warn_prf(average, modifier, f\"{metric.capitalize()} is\", len(result))\n",
            "/usr/local/lib/python3.12/dist-packages/sklearn/metrics/_classification.py:1565: UndefinedMetricWarning: Precision is ill-defined and being set to 0.0 in labels with no predicted samples. Use `zero_division` parameter to control this behavior.\n",
            "  _warn_prf(average, modifier, f\"{metric.capitalize()} is\", len(result))\n"
          ]
        }
      ]
    },
    {
      "cell_type": "markdown",
      "source": [
        "Tuning 2"
      ],
      "metadata": {
        "id": "57WJOnIE5vwv"
      }
    },
    {
      "cell_type": "code",
      "source": [
        "\n",
        "# Inisialisasi model SVM dengan parameter terbaik DAN class_weight\n",
        "svm_model_balanced = SVC(\n",
        "    kernel='linear',\n",
        "    C=1,  # C terbaik dari hasil GridSearchCV Anda\n",
        "    class_weight='balanced', # <-- Tambahkan parameter penting ini\n",
        "    random_state=42\n",
        ")\n",
        "\n",
        "print(\"Memulai pelatihan model SVM dengan class_weight='balanced'...\")\n",
        "svm_model_balanced.fit(X_train, y_train)\n",
        "print(\"Pelatihan selesai.\")\n",
        "\n",
        "# Evaluasi Model\n",
        "y_pred_balanced = svm_model_balanced.predict(X_test)\n",
        "accuracy_balanced = accuracy_score(y_test, y_pred_balanced)\n",
        "\n",
        "print(f\"\\n--- Hasil SVM dengan Class Weight Balanced ---\")\n",
        "print(f\"Akurasi: {accuracy_balanced * 100:.2f}%\")\n",
        "print(\"\\nLaporan Klasifikasi:\")\n",
        "print(classification_report(y_test, y_pred_balanced))"
      ],
      "metadata": {
        "id": "0Cl3kEx754gX",
        "outputId": "b49d930d-f0ae-40e7-b78c-e391d2bff100",
        "colab": {
          "base_uri": "https://localhost:8080/"
        }
      },
      "execution_count": 105,
      "outputs": [
        {
          "output_type": "stream",
          "name": "stdout",
          "text": [
            "Memulai pelatihan model SVM dengan class_weight='balanced'...\n",
            "Pelatihan selesai.\n",
            "\n",
            "--- Hasil SVM dengan Class Weight Balanced ---\n",
            "Akurasi: 84.57%\n",
            "\n",
            "Laporan Klasifikasi:\n",
            "              precision    recall  f1-score   support\n",
            "\n",
            "     negatif       0.75      0.77      0.76       583\n",
            "      netral       0.14      0.23      0.17        81\n",
            "     positif       0.96      0.91      0.93      1475\n",
            "\n",
            "    accuracy                           0.85      2139\n",
            "   macro avg       0.62      0.64      0.62      2139\n",
            "weighted avg       0.87      0.85      0.86      2139\n",
            "\n"
          ]
        }
      ]
    },
    {
      "cell_type": "markdown",
      "source": [
        "Tuning"
      ],
      "metadata": {
        "id": "hM3lyXUae0LG"
      }
    },
    {
      "cell_type": "code",
      "source": [
        "param_grid_expanded = [\n",
        "    {\n",
        "        'kernel': ['linear'],\n",
        "        'C': [1, 10, 100]\n",
        "    },\n",
        "    {\n",
        "        'kernel': ['rbf'],\n",
        "        'C': [1, 10, 100],\n",
        "        'gamma': [0.1, 0.01, 0.001]\n",
        "    }\n",
        "]\n",
        "\n",
        "# 2. Inisialisasi GridSearchCV dengan param_grid yang baru\n",
        "# Perhatikan kita tidak lagi mendefinisikan kernel di dalam SVC()\n",
        "grid_search_expanded = GridSearchCV(\n",
        "    SVC(random_state=42), # Model dasar tanpa kernel spesifik\n",
        "    param_grid_expanded,  # Gunakan grid parameter yang sudah diperluas\n",
        "    cv=3,                 # cv=3 untuk mempercepat pencarian yang lebih kompleks ini\n",
        "    n_jobs=-1,\n",
        "    verbose=2\n",
        ")\n",
        "\n",
        "# 3. Jalankan pencarian pada data latih Anda (X_train dan y_train)\n",
        "print(\"Memulai pencarian hyperparameter yang diperluas (kernel, C, gamma)...\")\n",
        "grid_search_expanded.fit(X_train, y_train)\n",
        "print(\"Pencarian selesai.\")\n",
        "\n",
        "# 4. Lihat kombinasi parameter terbaik yang ditemukan\n",
        "print(f\"\\nParameter terbaik yang ditemukan: {grid_search_expanded.best_params_}\")\n",
        "print(f\"Skor cross-validation terbaik: {grid_search_expanded.best_score_:.4f}\")\n",
        "\n",
        "\n",
        "# 5. Gunakan model terbaik untuk membuat prediksi\n",
        "best_model_overall = grid_search_expanded.best_estimator_\n",
        "y_pred_best = best_model_overall.predict(X_test)\n",
        "accuracy_best = accuracy_score(y_test, y_pred_best)\n",
        "\n",
        "# 6. Tampilkan hasil akurasi yang sudah ditingkatkan\n",
        "print(f\"\\n--- Hasil Terbaik Setelah Pencarian Diperluas ---\")\n",
        "print(f\"Akurasi: {accuracy_best * 100:.2f}%\")\n",
        "print(\"\\nLaporan Klasifikasi:\")\n",
        "print(classification_report(y_test, y_pred_best))"
      ],
      "metadata": {
        "id": "zAteZzKoqsFn",
        "outputId": "db0a1ccd-713c-4b46-ccf5-e00568b38153",
        "colab": {
          "base_uri": "https://localhost:8080/"
        }
      },
      "execution_count": 106,
      "outputs": [
        {
          "output_type": "stream",
          "name": "stdout",
          "text": [
            "Memulai pencarian hyperparameter yang diperluas (kernel, C, gamma)...\n",
            "Fitting 3 folds for each of 12 candidates, totalling 36 fits\n",
            "Pencarian selesai.\n",
            "\n",
            "Parameter terbaik yang ditemukan: {'C': 1, 'kernel': 'linear'}\n",
            "Skor cross-validation terbaik: 0.8741\n",
            "\n",
            "--- Hasil Terbaik Setelah Pencarian Diperluas ---\n",
            "Akurasi: 88.17%\n",
            "\n",
            "Laporan Klasifikasi:\n",
            "              precision    recall  f1-score   support\n",
            "\n",
            "     negatif       0.79      0.82      0.80       583\n",
            "      netral       0.00      0.00      0.00        81\n",
            "     positif       0.92      0.95      0.94      1475\n",
            "\n",
            "    accuracy                           0.88      2139\n",
            "   macro avg       0.57      0.59      0.58      2139\n",
            "weighted avg       0.85      0.88      0.86      2139\n",
            "\n"
          ]
        },
        {
          "output_type": "stream",
          "name": "stderr",
          "text": [
            "/usr/local/lib/python3.12/dist-packages/sklearn/metrics/_classification.py:1565: UndefinedMetricWarning: Precision is ill-defined and being set to 0.0 in labels with no predicted samples. Use `zero_division` parameter to control this behavior.\n",
            "  _warn_prf(average, modifier, f\"{metric.capitalize()} is\", len(result))\n",
            "/usr/local/lib/python3.12/dist-packages/sklearn/metrics/_classification.py:1565: UndefinedMetricWarning: Precision is ill-defined and being set to 0.0 in labels with no predicted samples. Use `zero_division` parameter to control this behavior.\n",
            "  _warn_prf(average, modifier, f\"{metric.capitalize()} is\", len(result))\n",
            "/usr/local/lib/python3.12/dist-packages/sklearn/metrics/_classification.py:1565: UndefinedMetricWarning: Precision is ill-defined and being set to 0.0 in labels with no predicted samples. Use `zero_division` parameter to control this behavior.\n",
            "  _warn_prf(average, modifier, f\"{metric.capitalize()} is\", len(result))\n"
          ]
        }
      ]
    },
    {
      "cell_type": "code",
      "source": [
        "```# 1. Definisikan parameter yang ingin diuji\n",
        "# Kita akan mencoba beberapa nilai C yang umum digunakan\n",
        "param_grid = {\n",
        "    'C': [0.1, 1, 10, 100]\n",
        "}\n",
        "\n",
        "# 2. Inisialisasi GridSearchCV\n",
        "# - SVC(kernel='linear', random_state=42): Model dasar kita\n",
        "# - param_grid: 'Kamus' pengaturan yang akan diuji\n",
        "# - cv=5: Menggunakan 5-fold cross-validation untuk evaluasi yang lebih stabil\n",
        "# - n_jobs=-1: Menggunakan semua core CPU untuk mempercepat proses pencarian\n",
        "grid_search = GridSearchCV(\n",
        "    SVC(kernel='linear', random_state=42),\n",
        "    param_grid,\n",
        "    cv=5,\n",
        "    n_jobs=-1,\n",
        "    verbose=2 # Menampilkan log proses pencarian\n",
        ")\n",
        "\n",
        "# 3. Jalankan pencarian pada data latih Anda\n",
        "print(\"Memulai pencarian hyperparameter terbaik untuk SVM...\")\n",
        "grid_search.fit(X_train, y_train)\n",
        "print(\"Pencarian selesai.\")\n",
        "\n",
        "# 4. Lihat parameter terbaik yang ditemukan\n",
        "print(f\"\\nParameter 'C' terbaik yang ditemukan: {grid_search.best_params_}\")\n",
        "\n",
        "# 5. Gunakan model terbaik untuk membuat prediksi\n",
        "best_svm_model = grid_search.best_estimator_\n",
        "y_pred_best_svm = best_svm_model.predict(X_test)\n",
        "accuracy_best_svm = accuracy_score(y_test, y_pred_best_svm)\n",
        "\n",
        "# 6. Tampilkan hasil akurasi yang sudah ditingkatkan\n",
        "print(f\"\\n--- Hasil Skema 1 (Setelah Tuning) ---\")\n",
        "print(f\"Akurasi: {accuracy_best_svm * 100:.2f}%\")\n",
        "print(\"\\nLaporan Klasifikasi:\")\n",
        "print(classification_report(y_test, y_pred_best_svm))"
      ],
      "metadata": {
        "id": "owlQID1fe163",
        "outputId": "7a10e31d-999f-40d0-8f83-b60386a6c910",
        "colab": {
          "base_uri": "https://localhost:8080/",
          "height": 110
        }
      },
      "execution_count": 107,
      "outputs": [
        {
          "output_type": "error",
          "ename": "SyntaxError",
          "evalue": "invalid syntax (ipython-input-3563197383.py, line 1)",
          "traceback": [
            "\u001b[0;36m  File \u001b[0;32m\"/tmp/ipython-input-3563197383.py\"\u001b[0;36m, line \u001b[0;32m1\u001b[0m\n\u001b[0;31m    ```# 1. Definisikan parameter yang ingin diuji\u001b[0m\n\u001b[0m    ^\u001b[0m\n\u001b[0;31mSyntaxError\u001b[0m\u001b[0;31m:\u001b[0m invalid syntax\n"
          ]
        }
      ]
    },
    {
      "cell_type": "markdown",
      "source": [
        "## 🌳 Skema 2: Random Forest + Word2Vec (Data 80/20)\n"
      ],
      "metadata": {
        "id": "AiBEAcneaveG"
      }
    },
    {
      "cell_type": "code",
      "source": [
        "!pip install gensim\n",
        "\n",
        "# A. Tokenisasi data teks (Word2Vec butuh input berupa list of list of words)\n",
        "tokenized_text = [text.split() for text in df_bersih['clean_content']]\n",
        "\n",
        "# B. Latih model Word2Vec\n",
        "# size: dimensi vektor, window: jarak kata, min_count: abaikan kata yg jarang muncul\n",
        "print(\"Memulai pelatihan model Word2Vec...\")\n",
        "w2v_model = Word2Vec(sentences=tokenized_text, vector_size=100, window=5, min_count=1, workers=4)\n",
        "print(\"Pelatihan Word2Vec selesai.\")\n",
        "\n",
        "# C. Ubah setiap ulasan menjadi satu vektor rata-rata\n",
        "def vectorize_review(review, model):\n",
        "    words = review.split()\n",
        "    word_vectors = [model.wv[word] for word in words if word in model.wv.key_to_index]\n",
        "    if not word_vectors:\n",
        "        return np.zeros(model.vector_size)\n",
        "    return np.mean(word_vectors, axis=0)\n",
        "\n",
        "X_w2v = np.array([vectorize_review(review, w2v_model) for review in df_bersih['clean_content']])\n",
        "y_w2v = df_bersih['sentimen']\n",
        "\n",
        "print(f\"Dimensi matriks fitur Word2Vec (X_w2v): {X_w2v.shape}\")"
      ],
      "metadata": {
        "id": "qgaeWZlmZ_9P"
      },
      "execution_count": null,
      "outputs": []
    },
    {
      "cell_type": "code",
      "source": [
        "\n",
        "# 1. Pembagian Data (80% Latih, 20% Uji)\n",
        "X_train_w2v, X_test_w2v, y_train_w2v, y_test_w2v = train_test_split(\n",
        "    X_w2v, y_w2v,\n",
        "    test_size=0.2,\n",
        "    random_state=42,\n",
        "    stratify=y_w2v\n",
        ")\n",
        "\n",
        "# 2. Pelatihan Model Random Forest\n",
        "print(\"Memulai pelatihan model Random Forest...\")\n",
        "rf_model_w2v = RandomForestClassifier(n_estimators=100, random_state=42)\n",
        "rf_model_w2v.fit(X_train_w2v, y_train_w2v)\n",
        "print(\"Pelatihan Random Forest selesai.\")\n",
        "\n",
        "# 3. Evaluasi Model\n",
        "y_pred_rf_w2v = rf_model_w2v.predict(X_test_w2v)\n",
        "accuracy_rf_w2v = accuracy_score(y_test_w2v, y_pred_rf_w2v)\n",
        "\n",
        "print(f\"\\n--- Hasil Skema 2: RF + Word2Vec (80/20) ---\")\n",
        "print(f\"Akurasi: {accuracy_rf_w2v * 100:.2f}%\")\n",
        "print(\"\\nLaporan Klasifikasi:\")\n",
        "print(classification_report(y_test_w2v, y_pred_rf_w2v))"
      ],
      "metadata": {
        "id": "AzRRZeOOadpw"
      },
      "execution_count": null,
      "outputs": []
    },
    {
      "cell_type": "code",
      "source": [
        "# 1. Pembagian Data (70% Latih, 30% Uji)\n",
        "X_train_rf, X_test_rf, y_train_rf, y_test_rf = train_test_split(\n",
        "    X, y,\n",
        "    test_size=0.3, # Perhatikan test_size diubah menjadi 0.3\n",
        "    random_state=42,\n",
        "    stratify=y\n",
        ")\n",
        "\n",
        "# 2. Pelatihan Model Random Forest\n",
        "print(\"Memulai pelatihan model Random Forest...\")\n",
        "rf_model_tfidf = RandomForestClassifier(n_estimators=100, random_state=42)\n",
        "rf_model_tfidf.fit(X_train_rf, y_train_rf)\n",
        "print(\"Pelatihan Random Forest selesai.\")\n",
        "\n",
        "# 3. Evaluasi Model\n",
        "y_pred_rf_tfidf = rf_model_tfidf.predict(X_test_rf)\n",
        "accuracy_rf_tfidf = accuracy_score(y_test_rf, y_pred_rf_tfidf)\n",
        "\n",
        "print(f\"\\n--- Hasil Skema 3: RF + TF-IDF (70/30) ---\")\n",
        "print(f\"Akurasi: {accuracy_rf_tfidf * 100:.2f}%\")\n",
        "print(\"\\nLaporan Klasifikasi:\")\n",
        "print(classification_report(y_test_rf, y_pred_rf_tfidf))"
      ],
      "metadata": {
        "id": "VUjJA00rarDh"
      },
      "execution_count": null,
      "outputs": []
    }
  ]
}